{
 "cells": [
  {
   "cell_type": "markdown",
   "metadata": {},
   "source": [
    "## Documentation for Machine-Learning guessing algorithm\n",
    "\n",
    "GitHub Repo - https://github.com/akmadian/Machine-Learning\n",
    "\n",
    "Parent Script - https://github.com/akmadian/Machine-Learning/blob/master/patterns.py"
   ]
  },
  {
   "cell_type": "markdown",
   "metadata": {},
   "source": [
    "# guess_v1.0\n",
    "\n",
    "Script - https://github.com/akmadian/Machine-Learning/blob/master/Guess%20Algorithm%20Versions/guess_v1.0.py\n",
    "\n",
    "v1.0 only used random.randint to generate a random number 0, 1, or 2, then checked the guess against the uod value in the data file. \n",
    "\n",
    "v1.0 produced a 33.34% accuracy with 110,865 total lines to work with.\n",
    "\n",
    "\n",
    " - Num 0s: 14153\n",
    " - Num 1s: 14139\n",
    " - Num 2s: 82573\n",
    " - Largest 0 Streak: 2\n",
    " - Largest 1 Streak: 2\n",
    " - Largest 2 Streak: 178\n",
    " - Num 0 Streaks: 421\n",
    " - Num 1 Streaks: 439\n",
    " - Num 2 Streaks: 9483\n",
    " - Streak 0 Avg: 1.01\n",
    " - Streak 1 Avg: 1.023\n",
    " - Streak 2 Avg: 7.175\n",
    " - Factor 1 for 1: 1.0\n",
    " - Factor 0 for 1: 1.001\n",
    " - Factor 2 for 1: 5.84\n",
    " - Num correct, incorrect guesses: [36960, 73905]\n",
    " - Percent Correct: 33.34%\n",
    " - Total Lines: 110865\n"
   ]
  },
  {
   "cell_type": "code",
   "execution_count": null,
   "metadata": {
    "collapsed": true
   },
   "outputs": [],
   "source": [
    "def guess_v1_0():\n",
    "    correct = 0\n",
    "    incorrect = 0\n",
    "    line_count = 0\n",
    "    with open('combined.csv', 'r') as f:\n",
    "        reader = csv.reader(f)\n",
    "        for line in reader:\n",
    "            line_count += 1\n",
    "            if line_count >= 4:\n",
    "                guess_ = random.randint(0, 2)\n",
    "                if int(line[5]) == guess_:\n",
    "                    correct += 1\n",
    "                else:\n",
    "                    incorrect += 1\n",
    "        return [correct, incorrect]"
   ]
  },
  {
   "cell_type": "markdown",
   "metadata": {},
   "source": [
    "# guess_v1.0\n",
    "\n",
    "Script - https://github.com/akmadian/Machine-Learning/blob/master/Guess%20Algorithm%20Versions/guess_v1.1.py\n",
    "\n",
    "v1.1 Made a simple, but very beneficial change. Instead of just generating a random guess, it uses the probability factors to simulate the probability that the uod state would be 0, 1, or 2.\n",
    "\n",
    "It did this by rounding the numbers for\n",
    " - Factor 1 for 1\n",
    " - Factor 0 for 1\n",
    " - Factor 2 for 1\n",
    "Then adding them to a list. For example, \n",
    "\n",
    " - Num 0s: 14153\n",
    " - Num 1s: 14139\n",
    " - Num 2s: 82573\n",
    " - Largest 0 Streak: 2\n",
    " - Largest 1 Streak: 2\n",
    " - Largest 2 Streak: 178\n",
    " - Num 0 Streaks: 421\n",
    " - Num 1 Streaks: 439\n",
    " - Num 2 Streaks: 9483\n",
    " - Streak 0 Avg: 1.01\n",
    " - Streak 1 Avg: 1.023\n",
    " - Streak 2 Avg: 7.175\n",
    " - Factor 1 for 1: 1.0\n",
    " - Factor 0 for 1: 1.001\n",
    " - Factor 2 for 1: 5.84\n",
    " - Probability list: [0, 1, 2, 2, 2, 2, 2, 2]\n",
    " - Num correct, incorrect guesses: [65626, 45239]\n",
    " - Percent Correct: 59.19%\n",
    " - Total Lines: 110865\n"
   ]
  }
 ],
 "metadata": {
  "kernelspec": {
   "display_name": "Python 3",
   "language": "python",
   "name": "python3"
  },
  "language_info": {
   "codemirror_mode": {
    "name": "ipython",
    "version": 3
   },
   "file_extension": ".py",
   "mimetype": "text/x-python",
   "name": "python",
   "nbconvert_exporter": "python",
   "pygments_lexer": "ipython3",
   "version": "3.5.2"
  }
 },
 "nbformat": 4,
 "nbformat_minor": 2
}
